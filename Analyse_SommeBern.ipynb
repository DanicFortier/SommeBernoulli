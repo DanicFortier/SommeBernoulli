{
  "nbformat": 4,
  "nbformat_minor": 0,
  "metadata": {
    "colab": {
      "name": "Analyse SommeBern",
      "provenance": [],
      "collapsed_sections": [],
      "include_colab_link": true
    },
    "kernelspec": {
      "name": "python3",
      "display_name": "Python 3"
    },
    "accelerator": "GPU"
  },
  "cells": [
    {
      "cell_type": "markdown",
      "metadata": {
        "id": "view-in-github",
        "colab_type": "text"
      },
      "source": [
        "<a href=\"https://colab.research.google.com/github/DanicPy/SommeBernoulli/blob/master/Analyse_SommeBern.ipynb\" target=\"_parent\"><img src=\"https://colab.research.google.com/assets/colab-badge.svg\" alt=\"Open In Colab\"/></a>"
      ]
    },
    {
      "cell_type": "markdown",
      "metadata": {
        "id": "FOqECOyxvpVd"
      },
      "source": [
        "# Somme de loi de bernoulli non identiquement distribué.\n",
        "L'objet Risk a pour attribut un vecteur de probabilité. On traite  l'objet Risk comme étant un porte-feuille de risque où chaque risque est une variable aléatoire se comportant comme une loi de Bernouilli. On s'intéresse aux nombres de sinistres dans le portefeuille. Le porte-feuille n'est pas identiquement distribué mais les risques sont indépendant.\n",
        "\n",
        "Ce genre de porte-feuille est utile pour calculer les probabilités associées aux nombres de décès dans un porte-feuille d'assurance vie. Ce genre de portefeuille est aussi utile pour calculer des probabilité lié à la rétention des clients si chaque client a une probabilité idépendante mais non identiquement distribué de rester avec la compagnie ou bien lorsqu'il vient le temps d'évaluer le nombre de retraite dans une organisation en ayant modélisé la probabilité de retraite de chacun des employés éligible à la retraite."
      ]
    },
    {
      "cell_type": "markdown",
      "metadata": {
        "id": "USoE6gJFKwaD"
      },
      "source": [
        "# Calcul de $Pr⁡(S_n=k)$\n",
        "Prenons par exemple le cas où nous avons un groupe d'employé éligible à la retraite, \n",
        "\n",
        "Étant donné que les risques dans le porte-feuille sont indépendants, mais non identiquement distribué, c’est à dire que chaque employé n’a pas la même probabilité de partir à la retraite durant la prochaine année, il faut utiliser l’analyse combinatoire pour calculer $Pr⁡(S_n=k)$ . \n",
        "\n",
        "Par exemple, si nous voulons calculer $Pr⁡(S_5=2)$, il faut sommer les probabilités que chaque sous-groupe de 2 personnes prenne leur retraite l’année suivante. Voici toutes les combinaisons de numéro d’employé possible :\n",
        "\n",
        " $$A_i = [(0, 1), (0, 2), (0, 3), (0, 4), (1, 2), (1, 3), (1, 4), (2, 3), (2, 4), (3, 4)]$$\n",
        " \n",
        "On dénote Ai comme étant l’ensemble des partitions de k employés parmi le nombre d’employés dans le portefeuille.\n",
        "Il y a 10 combinaisons différentes de 2 employés parmi 5.\n",
        "Lorsqu’il y a 50 employés dans le portefeuille, il y a 10 272 278 170 combinaisons différentes de 10 employés.\n",
        "La formule générale pour le nombre de combinaison est la suivante :\n",
        ">$$\\binom{n}{k} = \\frac{n!}{k!(n-k)!} $$\n",
        "\n",
        "La formule générale pour $Pr⁡(S_n=k)$ :\n",
        ">$$Pr⁡(S_n=k)=\\sum_{i=0}^\\binom{n}{k}\\rho_{i}$$\n",
        "\n",
        ">$$\\rho_{i} = \\prod_{A_{i}}q^{(A_{i})}\\cdot\\prod_{A'_{i}}p^{(A'_{i})} $$\n"
      ]
    },
    {
      "cell_type": "code",
      "metadata": {
        "id": "iRwuyvcevaTv"
      },
      "source": [
        "import numpy as np\n",
        "from itertools import combinations\n",
        "\n",
        "class Risk:\n",
        "    #ptf : list\n",
        "  def __init__(self, ptf):\n",
        "      self.ptf = ptf\n",
        "  \n",
        "  #Une méthode pour calculer l'espérance\n",
        "  def expected_value(self):\n",
        "    return np.sum(self.ptf)\n",
        "  \n",
        "  def all_combinations(cls, sous_groupe, total):     \n",
        "      return [*combinations([*range(0, total, 1)], sous_groupe)]\n",
        "\n",
        "  #Une méthode pour calculer la probabilité qu'il se produise x sinistres\n",
        "  def mass_at_x(self, x):\n",
        "    \n",
        "    nbProb = len(self.ptf)\n",
        "    qx = np.array(self.ptf)\n",
        "    px = 1 - qx\n",
        "    if x == 0:\n",
        "      return np.prod(px)\n",
        "    else:\n",
        "      a = self.all_combinations(x, nbProb)\n",
        "      rho = []\n",
        "      for i in range(len(a)):\n",
        "        prod_qx = 1\n",
        "        prod_px = 1\n",
        "        for element in a[i]:\n",
        "          prod_qx *= qx[element]\n",
        "        temp_list_px = np.array(np.setdiff1d(range(nbProb), a[i]))\n",
        "        for j in temp_list_px:\n",
        "          prod_px *= px[j] \n",
        "        rho.append(prod_qx * prod_px)\n",
        "      return sum(rho)\n",
        "  \n",
        "  #une méthode pour print la fonction de masse des probabilitées\n",
        "  def print_pmf(self):\n",
        "    for i in range(len(self.ptf) + 1):\n",
        "      print(\"Pr(Sn = \" + str(i) + \") = \" + str(self.mass_at_x(i)))\n",
        "  \n",
        "  # Une méthode qui mutualise les risques de 2 ptf et qui instancie un objet avec le nouveau vecteur de probabilitées\n",
        "  def add(self, array):\n",
        "    return Risk(np.concatenate((self.ptf, array)))\n",
        "  \n",
        "  #Une méthode de validation qui somme les risques pour confirmer si la somme est 1\n",
        "  # Changer pour optmiser\n",
        "  def validation(self):\n",
        "    somme = 0\n",
        "    count = 0\n",
        "    while self.mass_at_x(count) != 0:\n",
        "      somme += self.mass_at_x(count)\n",
        "      count += 1\n",
        "    return somme"
      ],
      "execution_count": 2,
      "outputs": []
    },
    {
      "cell_type": "markdown",
      "metadata": {
        "id": "1YnsnsyJvrJy"
      },
      "source": [
        "Instanciation de 2 objets \"Risk\"' avec des probabilitées indépendantes mais non identiquement distribuées"
      ]
    },
    {
      "cell_type": "code",
      "metadata": {
        "id": "JekAKsQPvvEt"
      },
      "source": [
        "retraite_groupe1 = Risk([0.5, 0.08, 0.086, 0.6, 0.035, 0.078, 0.2, 0.07, 0.02, 0.2]) \n",
        "retraite_groupe2= Risk([0.2, 0.3, 0.07, 0.089, 0.21, 0.02, 0.01, 0.14])\n",
        "retraite_groupe3= Risk([0.2, 0.3, 0.7, 0.89, 0.21, 0.02, 0.01, 0.5, 0.8, 0.86, 0.6, 0.35, 0.78, 0.2, 0.7, 0.2, 0.3, 0.7, 0.89])"
      ],
      "execution_count": 3,
      "outputs": []
    },
    {
      "cell_type": "code",
      "metadata": {
        "id": "UZOxxQjfRpHz",
        "colab": {
          "base_uri": "https://localhost:8080/"
        },
        "outputId": "aab656b0-d982-4cd5-d78c-665d560349d4"
      },
      "source": [
        "retraite_groupe2.validation()"
      ],
      "execution_count": 4,
      "outputs": [
        {
          "output_type": "execute_result",
          "data": {
            "text/plain": [
              "1.0000000000000002"
            ]
          },
          "metadata": {
            "tags": []
          },
          "execution_count": 4
        }
      ]
    },
    {
      "cell_type": "markdown",
      "metadata": {
        "id": "ydT0A_flv6NM"
      },
      "source": [
        "Voici comment utiliser la méthode .print_pmf()\n"
      ]
    },
    {
      "cell_type": "code",
      "metadata": {
        "id": "SiFY-souv6fO",
        "colab": {
          "base_uri": "https://localhost:8080/"
        },
        "outputId": "34e54dc8-f33f-4367-be4f-c9546c81698e"
      },
      "source": [
        "retraite_groupe1.print_pmf()\n",
        "print()\n",
        "retraite_groupe2.print_pmf()"
      ],
      "execution_count": 5,
      "outputs": [
        {
          "output_type": "stream",
          "text": [
            "Pr(Sn = 0) = 0.0872792993806541\n",
            "Pr(Sn = 1) = 0.2965395832680858\n",
            "Pr(Sn = 2) = 0.3551251904212315\n",
            "Pr(Sn = 3) = 0.19378863055185214\n",
            "Pr(Sn = 4) = 0.05660747959935616\n",
            "Pr(Sn = 5) = 0.009610491338377602\n",
            "Pr(Sn = 6) = 0.00098581220058624\n",
            "Pr(Sn = 7) = 6.125272528064003e-05\n",
            "Pr(Sn = 8) = 2.2180826278400002e-06\n",
            "Pr(Sn = 9) = 4.211640384000002e-08\n",
            "Pr(Sn = 10) = 3.1554432000000014e-10\n",
            "\n",
            "Pr(Sn = 0) = 0.312734767381344\n",
            "Pr(Sn = 1) = 0.40988824420504805\n",
            "Pr(Sn = 2) = 0.212465665579432\n",
            "Pr(Sn = 3) = 0.05614966948213598\n",
            "Pr(Sn = 4) = 0.008102626027080001\n",
            "Pr(Sn = 5) = 0.0006336689497359997\n",
            "Pr(Sn = 6) = 2.4943491832e-05\n",
            "Pr(Sn = 7) = 4.12685448e-07\n",
            "Pr(Sn = 8) = 2.197944000000001e-09\n"
          ],
          "name": "stdout"
        }
      ]
    },
    {
      "cell_type": "code",
      "metadata": {
        "id": "4JPnVh3sxYxI",
        "colab": {
          "base_uri": "https://localhost:8080/"
        },
        "outputId": "12245596-3685-4fd6-b1bc-6530c4725f94"
      },
      "source": [
        " # trouver un meilleur nom\n",
        "%%time\n",
        "mutualisation_groupe1_et_groupe2 = retraite_groupe1.add(retraite_groupe2.ptf)\n",
        "mutualisation_groupe1_et_groupe2.print_pmf()"
      ],
      "execution_count": 6,
      "outputs": [
        {
          "output_type": "stream",
          "text": [
            "Pr(Sn = 0) = 0.027295271389015538\n",
            "Pr(Sn = 1) = 0.12851299637128855\n",
            "Pr(Sn = 2) = 0.2511519373749087\n",
            "Pr(Sn = 3) = 0.274071266814082\n",
            "Pr(Sn = 4) = 0.18994450954687878\n",
            "Pr(Sn = 5) = 0.08977992316125898\n",
            "Pr(Sn = 6) = 0.030223370142155603\n",
            "Pr(Sn = 7) = 0.007446280756951247\n",
            "Pr(Sn = 8) = 0.0013653253083315599\n",
            "Pr(Sn = 9) = 0.00018801105883256057\n",
            "Pr(Sn = 10) = 1.949822842695877e-05\n",
            "Pr(Sn = 11) = 1.518114973825867e-06\n",
            "Pr(Sn = 12) = 8.789823718379077e-08\n",
            "Pr(Sn = 13) = 3.7203117925493953e-09\n",
            "Pr(Sn = 14) = 1.1201618930317486e-10\n",
            "Pr(Sn = 15) = 2.3004812960112113e-12\n",
            "Pr(Sn = 16) = 3.012682555877849e-14\n",
            "Pr(Sn = 17) = 2.2279004618476047e-16\n",
            "Pr(Sn = 18) = 6.935487448780804e-19\n",
            "CPU times: user 18.5 s, sys: 1.06 s, total: 19.6 s\n",
            "Wall time: 18.5 s\n"
          ],
          "name": "stdout"
        }
      ]
    }
  ]
}